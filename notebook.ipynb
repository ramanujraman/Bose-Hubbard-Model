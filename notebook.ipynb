{
 "cells": [
  {
   "cell_type": "code",
   "execution_count": null,
   "metadata": {},
   "outputs": [],
   "source": [
    "from qutip import *\n",
    "import numpy as np\n",
    "import matplotlib.pyplot as plt\n",
    "\n",
    "# Parameters for Bose Hubbard Model\n",
    "t = 1              # hopping strength\n",
    "U =  1         # Potential interaction\n",
    "mu = 3              # Chemical Potential\n",
    "N = 3              # Number of Bosons\n",
    "M = 5               # Number of Lattice Sites\n",
    "\n",
    "# Create the Hamiltonian in parts\n",
    "# Chemical Potential Term\n",
    "h_mu = sum([tensor([num(N) if i==j else qeye(N) for j in range(M)]) for i in range(M)])\n",
    "\n",
    "# Interaction Term\n",
    "site_num_ops = [tensor([num(N) if i==j else qeye(N) for j in range(M)]) for i in range(M)]\n",
    "h_U = sum([site_num_ops[i]*(site_num_ops[i]-tensor([qeye(N) for j in range(M)])) for i in range(M)])\n",
    "\n",
    "# Hopping Term\n",
    "create_ops = [tensor([create(N) if i==j else qeye(N) for j in range(M)]) for i in range(M)]\n",
    "destroy_ops = [tensor([destroy(N) if i==j else qeye(N) for j in range(M)]) for i in range(M)]\n",
    "site_hop_ops = [create_ops[i]*destroy_ops[(i+1)%M] + destroy_ops[i]*create_ops[(i+1)%M] for i in range(M)]\n",
    "h_t =sum(site_hop_ops)\n",
    "\n",
    "#Intermediate Regime \n",
    "def H(t,U,mu):\n",
    "     return -t*h_t -(U/2)*h_U - mu*h_mu"
   ]
  },
  {
   "cell_type": "code",
   "execution_count": 5,
   "metadata": {},
   "outputs": [],
   "source": [
    "# Density of states at each site\n",
    "num_of_bosons_at_site1 = tensor([num(N) if i==0 else qeye(N) for i in range(M)])\n",
    "num_of_bosons_at_site2 = tensor([num(N) if i==1 else qeye(N) for i in range(M)])\n",
    "num_of_bosons_at_site3 = tensor([num(N) if i==2 else qeye(N) for i in range(M)])\n",
    "num_of_bosons_at_site4 = tensor([num(N) if i==3 else qeye(N) for i in range(M)])\n",
    "num_of_bosons_at_site5 = tensor([num(N) if i==4 else qeye(N) for i in range(M)])\n",
    "num_of_bosons_at_site6 = tensor([num(N) if i==5 else qeye(N) for i in range(M)])"
   ]
  },
  {
   "cell_type": "code",
   "execution_count": 7,
   "metadata": {},
   "outputs": [
    {
     "ename": "KeyboardInterrupt",
     "evalue": "",
     "output_type": "error",
     "traceback": [
      "\u001b[0;31m---------------------------------------------------------------------------\u001b[0m",
      "\u001b[0;31mKeyboardInterrupt\u001b[0m                         Traceback (most recent call last)",
      "Cell \u001b[0;32mIn[7], line 5\u001b[0m\n\u001b[1;32m      2\u001b[0m mu_list\u001b[38;5;241m=\u001b[39mnp\u001b[38;5;241m.\u001b[39mlinspace(\u001b[38;5;241m0\u001b[39m,\u001b[38;5;241m10\u001b[39m,\u001b[38;5;241m25\u001b[39m)\n\u001b[1;32m      3\u001b[0m t_list \u001b[38;5;241m=\u001b[39m np\u001b[38;5;241m.\u001b[39mlinspace(\u001b[38;5;241m0\u001b[39m,\u001b[38;5;241m10\u001b[39m,\u001b[38;5;241m25\u001b[39m)\n\u001b[0;32m----> 5\u001b[0m groundstates\u001b[38;5;241m=\u001b[39m[H(t,\u001b[38;5;241m1\u001b[39m,mu)\u001b[38;5;241m.\u001b[39mgroundstate() \u001b[38;5;28;01mfor\u001b[39;00m t \u001b[38;5;129;01min\u001b[39;00m t_list \u001b[38;5;28;01mfor\u001b[39;00m mu \u001b[38;5;129;01min\u001b[39;00m mu_list]\n",
      "File \u001b[0;32m~/mambaforge3/envs/quantum/lib/python3.12/site-packages/qutip/core/qobj.py:1618\u001b[0m, in \u001b[0;36mQobj.groundstate\u001b[0;34m(self, sparse, tol, maxiter, safe)\u001b[0m\n\u001b[1;32m   1589\u001b[0m \u001b[38;5;250m\u001b[39m\u001b[38;5;124;03m\"\"\"Ground state Eigenvalue and Eigenvector.\u001b[39;00m\n\u001b[1;32m   1590\u001b[0m \n\u001b[1;32m   1591\u001b[0m \u001b[38;5;124;03mDefined for quantum operators or superoperators only.\u001b[39;00m\n\u001b[0;32m   (...)\u001b[0m\n\u001b[1;32m   1615\u001b[0m \u001b[38;5;124;03mUse sparse only if memory requirements demand it.\u001b[39;00m\n\u001b[1;32m   1616\u001b[0m \u001b[38;5;124;03m\"\"\"\u001b[39;00m\n\u001b[1;32m   1617\u001b[0m eigvals \u001b[38;5;241m=\u001b[39m \u001b[38;5;241m2\u001b[39m \u001b[38;5;28;01mif\u001b[39;00m safe \u001b[38;5;28;01melse\u001b[39;00m \u001b[38;5;241m1\u001b[39m\n\u001b[0;32m-> 1618\u001b[0m evals, evecs \u001b[38;5;241m=\u001b[39m \u001b[38;5;28mself\u001b[39m\u001b[38;5;241m.\u001b[39meigenstates(sparse\u001b[38;5;241m=\u001b[39msparse, eigvals\u001b[38;5;241m=\u001b[39meigvals,\n\u001b[1;32m   1619\u001b[0m                                 tol\u001b[38;5;241m=\u001b[39mtol, maxiter\u001b[38;5;241m=\u001b[39mmaxiter)\n\u001b[1;32m   1621\u001b[0m \u001b[38;5;28;01mif\u001b[39;00m safe:\n\u001b[1;32m   1622\u001b[0m     tol \u001b[38;5;241m=\u001b[39m tol \u001b[38;5;129;01mor\u001b[39;00m settings\u001b[38;5;241m.\u001b[39mcore[\u001b[38;5;124m'\u001b[39m\u001b[38;5;124matol\u001b[39m\u001b[38;5;124m'\u001b[39m]\n",
      "File \u001b[0;32m~/mambaforge3/envs/quantum/lib/python3.12/site-packages/qutip/core/qobj.py:1517\u001b[0m, in \u001b[0;36mQobj.eigenstates\u001b[0;34m(self, sparse, sort, eigvals, tol, maxiter, phase_fix)\u001b[0m\n\u001b[1;32m   1512\u001b[0m     evals, evecs \u001b[38;5;241m=\u001b[39m _data\u001b[38;5;241m.\u001b[39meigs_csr(\u001b[38;5;28mself\u001b[39m\u001b[38;5;241m.\u001b[39mdata,\n\u001b[1;32m   1513\u001b[0m                                   isherm\u001b[38;5;241m=\u001b[39m\u001b[38;5;28mself\u001b[39m\u001b[38;5;241m.\u001b[39m_isherm,\n\u001b[1;32m   1514\u001b[0m                                   sort\u001b[38;5;241m=\u001b[39msort, eigvals\u001b[38;5;241m=\u001b[39meigvals, tol\u001b[38;5;241m=\u001b[39mtol,\n\u001b[1;32m   1515\u001b[0m                                   maxiter\u001b[38;5;241m=\u001b[39mmaxiter)\n\u001b[1;32m   1516\u001b[0m \u001b[38;5;28;01melif\u001b[39;00m \u001b[38;5;28misinstance\u001b[39m(\u001b[38;5;28mself\u001b[39m\u001b[38;5;241m.\u001b[39mdata, (_data\u001b[38;5;241m.\u001b[39mCSR, _data\u001b[38;5;241m.\u001b[39mDia)):\n\u001b[0;32m-> 1517\u001b[0m     evals, evecs \u001b[38;5;241m=\u001b[39m _data\u001b[38;5;241m.\u001b[39meigs(_data\u001b[38;5;241m.\u001b[39mto(_data\u001b[38;5;241m.\u001b[39mDense, \u001b[38;5;28mself\u001b[39m\u001b[38;5;241m.\u001b[39mdata),\n\u001b[1;32m   1518\u001b[0m                               isherm\u001b[38;5;241m=\u001b[39m\u001b[38;5;28mself\u001b[39m\u001b[38;5;241m.\u001b[39m_isherm,\n\u001b[1;32m   1519\u001b[0m                               sort\u001b[38;5;241m=\u001b[39msort, eigvals\u001b[38;5;241m=\u001b[39meigvals)\n\u001b[1;32m   1520\u001b[0m \u001b[38;5;28;01melse\u001b[39;00m:\n\u001b[1;32m   1521\u001b[0m     evals, evecs \u001b[38;5;241m=\u001b[39m _data\u001b[38;5;241m.\u001b[39meigs(\u001b[38;5;28mself\u001b[39m\u001b[38;5;241m.\u001b[39mdata, isherm\u001b[38;5;241m=\u001b[39m\u001b[38;5;28mself\u001b[39m\u001b[38;5;241m.\u001b[39m_isherm,\n\u001b[1;32m   1522\u001b[0m                               sort\u001b[38;5;241m=\u001b[39msort, eigvals\u001b[38;5;241m=\u001b[39meigvals)\n",
      "File \u001b[0;32m~/mambaforge3/envs/quantum/lib/python3.12/site-packages/qutip/core/data/dispatch.pyx:392\u001b[0m, in \u001b[0;36mqutip.core.data.dispatch.Dispatcher.__call__\u001b[0;34m()\u001b[0m\n",
      "File \u001b[0;32m~/mambaforge3/envs/quantum/lib/python3.12/site-packages/qutip/core/data/eigen.py:271\u001b[0m, in \u001b[0;36meigs_dense\u001b[0;34m(data, isherm, vecs, sort, eigvals)\u001b[0m\n\u001b[1;32m    269\u001b[0m eigvals, num_large, num_small \u001b[38;5;241m=\u001b[39m _eigs_fix_eigvals(data, eigvals, sort)\n\u001b[1;32m    270\u001b[0m isherm \u001b[38;5;241m=\u001b[39m isherm \u001b[38;5;28;01mif\u001b[39;00m isherm \u001b[38;5;129;01mis\u001b[39;00m \u001b[38;5;129;01mnot\u001b[39;00m \u001b[38;5;28;01mNone\u001b[39;00m \u001b[38;5;28;01melse\u001b[39;00m _isherm(data)\n\u001b[0;32m--> 271\u001b[0m evals, evecs \u001b[38;5;241m=\u001b[39m _eigs_dense(data\u001b[38;5;241m.\u001b[39mas_ndarray(), isherm, vecs, eigvals,\n\u001b[1;32m    272\u001b[0m                            num_large, num_small)\n\u001b[1;32m    273\u001b[0m \u001b[38;5;28;01mif\u001b[39;00m sort \u001b[38;5;241m==\u001b[39m \u001b[38;5;124m'\u001b[39m\u001b[38;5;124mhigh\u001b[39m\u001b[38;5;124m'\u001b[39m:\n\u001b[1;32m    274\u001b[0m     \u001b[38;5;66;03m# Flip arrays around.\u001b[39;00m\n\u001b[1;32m    275\u001b[0m     \u001b[38;5;28;01mif\u001b[39;00m vecs:\n",
      "File \u001b[0;32m~/mambaforge3/envs/quantum/lib/python3.12/site-packages/qutip/core/data/eigen.py:69\u001b[0m, in \u001b[0;36m_eigs_dense\u001b[0;34m(data, isherm, vecs, eigvals, num_large, num_small)\u001b[0m\n\u001b[1;32m     67\u001b[0m \u001b[38;5;28;01mif\u001b[39;00m vecs:\n\u001b[1;32m     68\u001b[0m     driver \u001b[38;5;241m=\u001b[39m eigh \u001b[38;5;28;01mif\u001b[39;00m isherm \u001b[38;5;28;01melse\u001b[39;00m scipy\u001b[38;5;241m.\u001b[39mlinalg\u001b[38;5;241m.\u001b[39meig\n\u001b[0;32m---> 69\u001b[0m     evals, evecs \u001b[38;5;241m=\u001b[39m driver(data, \u001b[38;5;241m*\u001b[39m\u001b[38;5;241m*\u001b[39mkwargs)\n\u001b[1;32m     70\u001b[0m \u001b[38;5;28;01melse\u001b[39;00m:\n\u001b[1;32m     71\u001b[0m     driver \u001b[38;5;241m=\u001b[39m eigvalsh \u001b[38;5;28;01mif\u001b[39;00m isherm \u001b[38;5;28;01melse\u001b[39;00m scipy\u001b[38;5;241m.\u001b[39mlinalg\u001b[38;5;241m.\u001b[39meigvals\n",
      "File \u001b[0;32m~/mambaforge3/envs/quantum/lib/python3.12/site-packages/scipy/linalg/_decomp.py:559\u001b[0m, in \u001b[0;36meigh\u001b[0;34m(a, b, lower, eigvals_only, overwrite_a, overwrite_b, type, check_finite, subset_by_index, subset_by_value, driver)\u001b[0m\n\u001b[1;32m    556\u001b[0m         lwork_args \u001b[38;5;241m=\u001b[39m {\u001b[38;5;124m'\u001b[39m\u001b[38;5;124mlwork\u001b[39m\u001b[38;5;124m'\u001b[39m: lw}\n\u001b[1;32m    558\u001b[0m     drv_args\u001b[38;5;241m.\u001b[39mupdate({\u001b[38;5;124m'\u001b[39m\u001b[38;5;124mlower\u001b[39m\u001b[38;5;124m'\u001b[39m: lower, \u001b[38;5;124m'\u001b[39m\u001b[38;5;124mcompute_v\u001b[39m\u001b[38;5;124m'\u001b[39m: \u001b[38;5;241m0\u001b[39m \u001b[38;5;28;01mif\u001b[39;00m _job \u001b[38;5;241m==\u001b[39m \u001b[38;5;124m\"\u001b[39m\u001b[38;5;124mN\u001b[39m\u001b[38;5;124m\"\u001b[39m \u001b[38;5;28;01melse\u001b[39;00m \u001b[38;5;241m1\u001b[39m})\n\u001b[0;32m--> 559\u001b[0m     w, v, \u001b[38;5;241m*\u001b[39mother_args, info \u001b[38;5;241m=\u001b[39m drv(a\u001b[38;5;241m=\u001b[39ma1, \u001b[38;5;241m*\u001b[39m\u001b[38;5;241m*\u001b[39mdrv_args, \u001b[38;5;241m*\u001b[39m\u001b[38;5;241m*\u001b[39mlwork_args)\n\u001b[1;32m    561\u001b[0m \u001b[38;5;28;01melse\u001b[39;00m:  \u001b[38;5;66;03m# Generalized problem\u001b[39;00m\n\u001b[1;32m    562\u001b[0m     \u001b[38;5;66;03m# 'gvd' doesn't have lwork query\u001b[39;00m\n\u001b[1;32m    563\u001b[0m     \u001b[38;5;28;01mif\u001b[39;00m driver \u001b[38;5;241m==\u001b[39m \u001b[38;5;124m\"\u001b[39m\u001b[38;5;124mgvd\u001b[39m\u001b[38;5;124m\"\u001b[39m:\n",
      "\u001b[0;31mKeyboardInterrupt\u001b[0m: "
     ]
    }
   ],
   "source": [
    "#phase diagram of the bose-hubbard model\n",
    "mu_list=np.linspace(0,10,25)\n",
    "t_list = np.linspace(0,10,25)\n",
    "\n",
    "groundstates=[H(t,1,mu).groundstate() for t in t_list for mu in mu_list]"
   ]
  }
 ],
 "metadata": {
  "kernelspec": {
   "display_name": "quantum",
   "language": "python",
   "name": "python3"
  },
  "language_info": {
   "codemirror_mode": {
    "name": "ipython",
    "version": 3
   },
   "file_extension": ".py",
   "mimetype": "text/x-python",
   "name": "python",
   "nbconvert_exporter": "python",
   "pygments_lexer": "ipython3",
   "version": "3.12.7"
  }
 },
 "nbformat": 4,
 "nbformat_minor": 2
}
