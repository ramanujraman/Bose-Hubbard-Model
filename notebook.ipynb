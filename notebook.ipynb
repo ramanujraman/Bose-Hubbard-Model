{
 "cells": [
  {
   "cell_type": "code",
   "execution_count": 1,
   "metadata": {},
   "outputs": [],
   "source": [
    "from qutip import *\n",
    "import numpy as np\n",
    "import matplotlib.pyplot as plt\n",
    "\n",
    "# Parameters for Bose Hubbard Model\n",
    "t = 1              # hopping strength\n",
    "U =  1         # Potential interaction\n",
    "mu = 3              # Chemical Potential\n",
    "N = 3              # Number of Bosons\n",
    "M = 5               # Number of Lattice Sites\n",
    "\n",
    "# Create the Hamiltonian in parts\n",
    "# Chemical Potential Term\n",
    "h_mu = sum([tensor([num(N) if i==j else qeye(N) for j in range(M)]) for i in range(M)])\n",
    "\n",
    "# Interaction Term\n",
    "site_num_ops = [tensor([num(N) if i==j else qeye(N) for j in range(M)]) for i in range(M)]\n",
    "h_U = sum([site_num_ops[i]*(site_num_ops[i]-tensor([qeye(N) for j in range(M)])) for i in range(M)])\n",
    "\n",
    "# Hopping Term\n",
    "create_ops = [tensor([create(N) if i==j else qeye(N) for j in range(M)]) for i in range(M)]\n",
    "destroy_ops = [tensor([destroy(N) if i==j else qeye(N) for j in range(M)]) for i in range(M)]\n",
    "site_hop_ops = [create_ops[i]*destroy_ops[(i+1)%M] + destroy_ops[i]*create_ops[(i+1)%M] for i in range(M)]\n",
    "h_t =sum(site_hop_ops)\n",
    "\n",
    "#Intermediate Regime \n",
    "def H(t,U,mu):\n",
    "     return -t*h_t -(U/2)*h_U - mu*h_mu"
   ]
  },
  {
   "cell_type": "code",
   "execution_count": 2,
   "metadata": {},
   "outputs": [],
   "source": [
    "# Density of states at each site\n",
    "num_of_bosons_at_site1 = tensor([num(N) if i==0 else qeye(N) for i in range(M)])\n",
    "num_of_bosons_at_site2 = tensor([num(N) if i==1 else qeye(N) for i in range(M)])\n",
    "num_of_bosons_at_site3 = tensor([num(N) if i==2 else qeye(N) for i in range(M)])\n",
    "num_of_bosons_at_site4 = tensor([num(N) if i==3 else qeye(N) for i in range(M)])\n",
    "num_of_bosons_at_site5 = tensor([num(N) if i==4 else qeye(N) for i in range(M)])\n",
    "num_of_bosons_at_site6 = tensor([num(N) if i==5 else qeye(N) for i in range(M)])"
   ]
  },
  {
   "cell_type": "code",
   "execution_count": 3,
   "metadata": {},
   "outputs": [],
   "source": [
    "#phase diagram of the bose-hubbard model\n",
    "mu_list=np.linspace(0,10,25)\n",
    "t_list = np.linspace(0,10,25)\n",
    "\n",
    "groundstates=[H(t,1,mu).groundstate() for t in t_list for mu in mu_list]"
   ]
  }
 ],
 "metadata": {
  "kernelspec": {
   "display_name": "quantum",
   "language": "python",
   "name": "python3"
  },
  "language_info": {
   "codemirror_mode": {
    "name": "ipython",
    "version": 3
   },
   "file_extension": ".py",
   "mimetype": "text/x-python",
   "name": "python",
   "nbconvert_exporter": "python",
   "pygments_lexer": "ipython3",
   "version": "3.12.7"
  }
 },
 "nbformat": 4,
 "nbformat_minor": 2
}
