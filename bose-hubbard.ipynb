{
 "cells": [
  {
   "cell_type": "code",
   "execution_count": 46,
   "metadata": {},
   "outputs": [],
   "source": [
    "from qutip import *\n",
    "import numpy as np\n",
    "import matplotlib.pyplot as plt"
   ]
  },
  {
   "cell_type": "markdown",
   "metadata": {},
   "source": [
    "## Parameters for the Bose-Hubbard Model"
   ]
  },
  {
   "cell_type": "code",
   "execution_count": 47,
   "metadata": {},
   "outputs": [],
   "source": [
    "t=0.1              # hopping strength\n",
    "U=2              # Potential interaction\n",
    "mu=3             # Chemical Potential\n",
    "N=3              # Number of Bosons\n",
    "M=5        # Number of Lattice Sites"
   ]
  },
  {
   "cell_type": "markdown",
   "metadata": {},
   "source": [
    "## Create the Hamiltonian in parts"
   ]
  },
  {
   "cell_type": "code",
   "execution_count": 48,
   "metadata": {},
   "outputs": [],
   "source": [
    "# Chemical Potential Term\n",
    "h_mu = sum([tensor([num(N) if i==j else qeye(N) for j in range(M)]) for i in range(M)])\n",
    "\n",
    "# Interaction Term\n",
    "site_num_ops = [tensor([num(N) if i==j else qeye(N) for j in range(M)]) for i in range(M)]\n",
    "h_U = sum([site_num_ops[i]*(site_num_ops[i]-tensor([qeye(N) for j in range(M)])) for i in range(M)])\n",
    "\n",
    "# Hopping Term\n",
    "site_hop_ops = [tensor([create(N) if i==j else destroy(N) if i==j+1 else qeye(N) for j in range(M)]) for i in range(M)]\n",
    "h_t =sum(site_hop_ops)\n",
    "h_t = h_t + h_t.dag()"
   ]
  },
  {
   "cell_type": "markdown",
   "metadata": {},
   "source": [
    "## Strongly Interacting Limit (t=0)"
   ]
  },
  {
   "cell_type": "code",
   "execution_count": null,
   "metadata": {},
   "outputs": [],
   "source": [
    "# Total Hamiltonian for strongly interacting limit\n",
    "H_strongly_interacting_limit = (U/2)*h_U - mu*h_mu\n",
    "H_strongly_interacting_limit.groundstate()"
   ]
  },
  {
   "cell_type": "markdown",
   "metadata": {},
   "source": [
    "## Weak Interaction Limit (U=0)"
   ]
  },
  {
   "cell_type": "code",
   "execution_count": null,
   "metadata": {},
   "outputs": [],
   "source": [
    "# Total Hamiltonian for weak interacting limit\n",
    "H_weak_interacting_limit = -t*h_t - mu*h_mu\n",
    "H_weak_interacting_limit.groundstate()"
   ]
  },
  {
   "cell_type": "markdown",
   "metadata": {},
   "source": [
    "## Intermediate Regime (t and U both non-zero)"
   ]
  },
  {
   "cell_type": "code",
   "execution_count": null,
   "metadata": {},
   "outputs": [],
   "source": [
    "H = -t*h_t +(U/2)*h_U - mu*h_mu\n",
    "H.groundstate()"
   ]
  }
 ],
 "metadata": {
  "kernelspec": {
   "display_name": "Python(Quantum)",
   "language": "python",
   "name": "myenv"
  },
  "language_info": {
   "codemirror_mode": {
    "name": "ipython",
    "version": 3
   },
   "file_extension": ".py",
   "mimetype": "text/x-python",
   "name": "python",
   "nbconvert_exporter": "python",
   "pygments_lexer": "ipython3",
   "version": "3.12.7"
  }
 },
 "nbformat": 4,
 "nbformat_minor": 2
}
