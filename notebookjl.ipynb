{
 "cells": [
  {
   "cell_type": "code",
   "execution_count": 14,
   "metadata": {},
   "outputs": [],
   "source": [
    "using QuantumToolbox"
   ]
  },
  {
   "cell_type": "code",
   "execution_count": 15,
   "metadata": {},
   "outputs": [
    {
     "data": {
      "text/plain": [
       "2"
      ]
     },
     "metadata": {},
     "output_type": "display_data"
    }
   ],
   "source": [
    "# Parameters of Hamiltonian\n",
    "t = 1.0\n",
    "U = 2.0\n",
    "μ = 7.0\n",
    "L = 5 # Number of sites\n",
    "N = 2 # Number of particles"
   ]
  },
  {
   "cell_type": "code",
   "execution_count": 21,
   "metadata": {},
   "outputs": [],
   "source": [
    "create_ops =[]\n",
    "destroy_ops = []\n",
    "for i in 0:L\n",
    "     create_min = []\n",
    "     destroy_min = []\n",
    "     for j in 0:L\n",
    "            if i==j \n",
    "               push!(create_min, create(N))\n",
    "               push!(destroy_min, destroy(N))\n",
    "            else\n",
    "               push!(create_min, eye(N))\n",
    "               push!(destroy_min, eye(N))\n",
    "            end\n",
    "     push!(create_ops, create_min)\n",
    "     push!(destroy_ops, destroy_min)\n",
    "     end\n",
    "end\n"
   ]
  },
  {
   "cell_type": "code",
   "execution_count": 22,
   "metadata": {},
   "outputs": [
    {
     "ename": "BoundsError",
     "evalue": "BoundsError: attempt to access 36-element Vector{Any} at index [0]",
     "output_type": "error",
     "traceback": [
      "BoundsError: attempt to access 36-element Vector{Any} at index [0]\n",
      "\n",
      "Stacktrace:\n",
      " [1] throw_boundserror(A::Vector{Any}, I::Tuple{Int64})\n",
      "   @ Base ./essentials.jl:14\n",
      " [2] getindex(A::Vector{Any}, i::Int64)\n",
      "   @ Base ./essentials.jl:916\n",
      " [3] top-level scope\n",
      "   @ ~/Documents/GitHub/Bose-Hubbard-Model/jl_notebook_cell_df34fa98e69747e1a8f8a730347b8e2f_W6sZmlsZQ==.jl:1"
     ]
    }
   ],
   "source": [
    "println(create_ops[0])"
   ]
  },
  {
   "cell_type": "code",
   "execution_count": 19,
   "metadata": {},
   "outputs": [
    {
     "ename": "MethodError",
     "evalue": "MethodError: no method matching kron(::Vector{Any})\nThe function `kron` exists, but no method is defined for this combination of argument types.\n\nClosest candidates are:\n  kron(::Union{Number, Adjoint{<:Any, <:VecOrMat}, Bidiagonal, Diagonal, Hermitian{T, A} where {T, A<:(Matrix)}, LowerTriangular{<:Any, A} where A<:(Matrix), SymTridiagonal, Symmetric{T, A} where {T, A<:(Matrix)}, Transpose{<:Any, <:VecOrMat}, Tridiagonal, UnitLowerTriangular{<:Any, A} where A<:(Matrix), UnitUpperTriangular{<:Any, A} where A<:(Matrix), UpperTriangular{<:Any, A} where A<:(Matrix), Matrix, Vector}, !Matched::Union{Adjoint{<:Any, <:Union{SparseArrays.AbstractCompressedVector, SparseArrays.AbstractSparseMatrixCSC}}, Hermitian{<:Any, <:Union{Adjoint{<:Any, <:Union{SparseArrays.AbstractCompressedVector, SparseArrays.AbstractSparseMatrixCSC}}, Transpose{<:Any, <:Union{SparseArrays.AbstractCompressedVector, SparseArrays.AbstractSparseMatrixCSC}}, SparseArrays.AbstractCompressedVector, SparseArrays.AbstractSparseMatrixCSC}}, LowerTriangular{<:Any, <:Union{Adjoint{<:Any, <:Union{SparseArrays.AbstractCompressedVector, SparseArrays.AbstractSparseMatrixCSC}}, Transpose{<:Any, <:Union{SparseArrays.AbstractCompressedVector, SparseArrays.AbstractSparseMatrixCSC}}, SparseArrays.AbstractCompressedVector, SparseArrays.AbstractSparseMatrixCSC}}, Symmetric{<:Any, <:Union{Adjoint{<:Any, <:Union{SparseArrays.AbstractCompressedVector, SparseArrays.AbstractSparseMatrixCSC}}, Transpose{<:Any, <:Union{SparseArrays.AbstractCompressedVector, SparseArrays.AbstractSparseMatrixCSC}}, SparseArrays.AbstractCompressedVector, SparseArrays.AbstractSparseMatrixCSC}}, Transpose{<:Any, <:Union{SparseArrays.AbstractCompressedVector, SparseArrays.AbstractSparseMatrixCSC}}, UnitLowerTriangular{<:Any, <:Union{Adjoint{<:Any, <:Union{SparseArrays.AbstractCompressedVector, SparseArrays.AbstractSparseMatrixCSC}}, Transpose{<:Any, <:Union{SparseArrays.AbstractCompressedVector, SparseArrays.AbstractSparseMatrixCSC}}, SparseArrays.AbstractCompressedVector, SparseArrays.AbstractSparseMatrixCSC}}, UnitUpperTriangular{<:Any, <:Union{Adjoint{<:Any, <:Union{SparseArrays.AbstractCompressedVector, SparseArrays.AbstractSparseMatrixCSC}}, Transpose{<:Any, <:Union{SparseArrays.AbstractCompressedVector, SparseArrays.AbstractSparseMatrixCSC}}, SparseArrays.AbstractCompressedVector, SparseArrays.AbstractSparseMatrixCSC}}, UpperTriangular{<:Any, <:Union{Adjoint{<:Any, <:Union{SparseArrays.AbstractCompressedVector, SparseArrays.AbstractSparseMatrixCSC}}, Transpose{<:Any, <:Union{SparseArrays.AbstractCompressedVector, SparseArrays.AbstractSparseMatrixCSC}}, SparseArrays.AbstractCompressedVector, SparseArrays.AbstractSparseMatrixCSC}}, SparseArrays.AbstractCompressedVector, SparseArrays.AbstractSparseMatrixCSC})\n   @ SparseArrays ~/.julia/juliaup/julia-1.11.4+0.aarch64.apple.darwin14/share/julia/stdlib/v1.11/SparseArrays/src/linalg.jl:1768\n  kron(::AbstractVecOrMat, !Matched::Number)\n   @ LinearAlgebra ~/.julia/juliaup/julia-1.11.4+0.aarch64.apple.darwin14/share/julia/stdlib/v1.11/LinearAlgebra/src/dense.jl:502\n  kron(::AbstractVector{T}, !Matched::AbstractVector{S}) where {T, S}\n   @ LinearAlgebra ~/.julia/juliaup/julia-1.11.4+0.aarch64.apple.darwin14/share/julia/stdlib/v1.11/LinearAlgebra/src/dense.jl:497\n  ...\n",
     "output_type": "error",
     "traceback": [
      "MethodError: no method matching kron(::Vector{Any})\n",
      "The function `kron` exists, but no method is defined for this combination of argument types.\n",
      "\n",
      "Closest candidates are:\n",
      "  kron(::Union{Number, Adjoint{<:Any, <:VecOrMat}, Bidiagonal, Diagonal, Hermitian{T, A} where {T, A<:(Matrix)}, LowerTriangular{<:Any, A} where A<:(Matrix), SymTridiagonal, Symmetric{T, A} where {T, A<:(Matrix)}, Transpose{<:Any, <:VecOrMat}, Tridiagonal, UnitLowerTriangular{<:Any, A} where A<:(Matrix), UnitUpperTriangular{<:Any, A} where A<:(Matrix), UpperTriangular{<:Any, A} where A<:(Matrix), Matrix, Vector}, !Matched::Union{Adjoint{<:Any, <:Union{SparseArrays.AbstractCompressedVector, SparseArrays.AbstractSparseMatrixCSC}}, Hermitian{<:Any, <:Union{Adjoint{<:Any, <:Union{SparseArrays.AbstractCompressedVector, SparseArrays.AbstractSparseMatrixCSC}}, Transpose{<:Any, <:Union{SparseArrays.AbstractCompressedVector, SparseArrays.AbstractSparseMatrixCSC}}, SparseArrays.AbstractCompressedVector, SparseArrays.AbstractSparseMatrixCSC}}, LowerTriangular{<:Any, <:Union{Adjoint{<:Any, <:Union{SparseArrays.AbstractCompressedVector, SparseArrays.AbstractSparseMatrixCSC}}, Transpose{<:Any, <:Union{SparseArrays.AbstractCompressedVector, SparseArrays.AbstractSparseMatrixCSC}}, SparseArrays.AbstractCompressedVector, SparseArrays.AbstractSparseMatrixCSC}}, Symmetric{<:Any, <:Union{Adjoint{<:Any, <:Union{SparseArrays.AbstractCompressedVector, SparseArrays.AbstractSparseMatrixCSC}}, Transpose{<:Any, <:Union{SparseArrays.AbstractCompressedVector, SparseArrays.AbstractSparseMatrixCSC}}, SparseArrays.AbstractCompressedVector, SparseArrays.AbstractSparseMatrixCSC}}, Transpose{<:Any, <:Union{SparseArrays.AbstractCompressedVector, SparseArrays.AbstractSparseMatrixCSC}}, UnitLowerTriangular{<:Any, <:Union{Adjoint{<:Any, <:Union{SparseArrays.AbstractCompressedVector, SparseArrays.AbstractSparseMatrixCSC}}, Transpose{<:Any, <:Union{SparseArrays.AbstractCompressedVector, SparseArrays.AbstractSparseMatrixCSC}}, SparseArrays.AbstractCompressedVector, SparseArrays.AbstractSparseMatrixCSC}}, UnitUpperTriangular{<:Any, <:Union{Adjoint{<:Any, <:Union{SparseArrays.AbstractCompressedVector, SparseArrays.AbstractSparseMatrixCSC}}, Transpose{<:Any, <:Union{SparseArrays.AbstractCompressedVector, SparseArrays.AbstractSparseMatrixCSC}}, SparseArrays.AbstractCompressedVector, SparseArrays.AbstractSparseMatrixCSC}}, UpperTriangular{<:Any, <:Union{Adjoint{<:Any, <:Union{SparseArrays.AbstractCompressedVector, SparseArrays.AbstractSparseMatrixCSC}}, Transpose{<:Any, <:Union{SparseArrays.AbstractCompressedVector, SparseArrays.AbstractSparseMatrixCSC}}, SparseArrays.AbstractCompressedVector, SparseArrays.AbstractSparseMatrixCSC}}, SparseArrays.AbstractCompressedVector, SparseArrays.AbstractSparseMatrixCSC})\n",
      "   @ SparseArrays ~/.julia/juliaup/julia-1.11.4+0.aarch64.apple.darwin14/share/julia/stdlib/v1.11/SparseArrays/src/linalg.jl:1768\n",
      "  kron(::AbstractVecOrMat, !Matched::Number)\n",
      "   @ LinearAlgebra ~/.julia/juliaup/julia-1.11.4+0.aarch64.apple.darwin14/share/julia/stdlib/v1.11/LinearAlgebra/src/dense.jl:502\n",
      "  kron(::AbstractVector{T}, !Matched::AbstractVector{S}) where {T, S}\n",
      "   @ LinearAlgebra ~/.julia/juliaup/julia-1.11.4+0.aarch64.apple.darwin14/share/julia/stdlib/v1.11/LinearAlgebra/src/dense.jl:497\n",
      "  ...\n",
      "\n",
      "\n",
      "Stacktrace:\n",
      " [1] top-level scope\n",
      "   @ ~/Documents/GitHub/Bose-Hubbard-Model/jl_notebook_cell_df34fa98e69747e1a8f8a730347b8e2f_W3sZmlsZQ==.jl:3"
     ]
    }
   ],
   "source": [
    "tensor_create_ops=[]\n",
    "for i in 1:length(create_ops)\n",
    "     push!(tensor_create_ops, tensor(create_ops[i]))\n",
    "end\n"
   ]
  }
 ],
 "metadata": {
  "kernelspec": {
   "display_name": "Julia 1.11.4",
   "language": "julia",
   "name": "julia-1.11"
  },
  "language_info": {
   "file_extension": ".jl",
   "mimetype": "application/julia",
   "name": "julia",
   "version": "1.11.4"
  }
 },
 "nbformat": 4,
 "nbformat_minor": 2
}
